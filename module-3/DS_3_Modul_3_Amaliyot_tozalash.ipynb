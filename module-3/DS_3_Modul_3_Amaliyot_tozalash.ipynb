{
  "nbformat": 4,
  "nbformat_minor": 0,
  "metadata": {
    "colab": {
      "provenance": []
    },
    "kernelspec": {
      "name": "python3",
      "display_name": "Python 3"
    },
    "language_info": {
      "name": "python"
    }
  },
  "cells": [
    {
      "cell_type": "markdown",
      "metadata": {
        "id": "poH5phdmhSLa"
      },
      "source": [
        "# ![Imgur](https://i.imgur.com/5pXzCIu.png)\n",
        "\n",
        "# **DATA SCIENCE VA SUN'IY INTELLEKT PRAKTIKUM**\n",
        "\n",
        "## 3.2 Ma'lumotlarni tayyorlash\n",
        "\n",
        "# **AMALIYOT**\n",
        "## Ma'lumotlarga ishlov berish\n",
        "\n",
        "\n",
        "\n"
      ]
    },
    {
      "cell_type": "code",
      "metadata": {
        "id": "wX08M2KIMfHY"
      },
      "source": [
        "import pandas as pd\n",
        "import numpy as np"
      ],
      "execution_count": 37,
      "outputs": []
    },
    {
      "cell_type": "code",
      "metadata": {
        "id": "E-eS1Sx-MiTH",
        "colab": {
          "base_uri": "https://localhost:8080/",
          "height": 410
        },
        "outputId": "fc50f288-6bba-456d-ae96-14a0cfa7671f"
      },
      "source": [
        "df = pd.read_csv(\"https://raw.githubusercontent.com/mukhammad-irmatov/health_dataset/main/healt_info.csv\")\n",
        "df.head(3)"
      ],
      "execution_count": 42,
      "outputs": [
        {
          "output_type": "execute_result",
          "data": {
            "text/plain": [
              "   Sno  AGE     SEX CASTE_NAME CATEGORY_CODE CATEGORY_NAME SURGERY_CODE  \\\n",
              "0    1   56  Female         BC            M6    NEPHROLOGY         M6.5   \n",
              "1    2   37    Male         BC            M6    NEPHROLOGY         M6.5   \n",
              "2    3   50    Male         BC            M6    NEPHROLOGY         M6.5   \n",
              "\n",
              "                            SURGERY      VILLAGE MANDAL_NAME  ...  \\\n",
              "0  Maintenance Hemodialysis For Crf       Lolugu     Ponduru  ...   \n",
              "1  Maintenance Hemodialysis For Crf    Borivanka      Kaviti  ...   \n",
              "2  Maintenance Hemodialysis For Crf  Kapasakuddi      Kaviti  ...   \n",
              "\n",
              "         CLAIM_DATE CLAIM_AMOUNT                                HOSP_NAME  \\\n",
              "0  22-03-2017 20:25        11000  Rims Govt. General Hospital, Srikakulam   \n",
              "1  22-03-2017 20:25        11000  Rims Govt. General Hospital, Srikakulam   \n",
              "2  22-03-2017 20:25        11500  Rims Govt. General Hospital, Srikakulam   \n",
              "\n",
              "  HOSP_TYPE  HOSP_DISTRICT      SURGERY_DATE    DISCHARGE_DATE  \\\n",
              "0         G     Srikakulam  06-08-2013 00:00  07-09-2013 00:00   \n",
              "1         G     Srikakulam  08-08-2013 00:00  09-09-2013 00:00   \n",
              "2         G     Srikakulam  15-08-2013 00:00  18-10-2013 00:00   \n",
              "\n",
              "  Mortality Y / N MORTALITY_DATE SRC_REGISTRATION  \n",
              "0              NO            NaN                D  \n",
              "1              NO            NaN                D  \n",
              "2              NO            NaN                D  \n",
              "\n",
              "[3 rows x 23 columns]"
            ],
            "text/html": [
              "\n",
              "  <div id=\"df-b025da6f-1ef0-40d3-a5ff-0d433dde387f\">\n",
              "    <div class=\"colab-df-container\">\n",
              "      <div>\n",
              "<style scoped>\n",
              "    .dataframe tbody tr th:only-of-type {\n",
              "        vertical-align: middle;\n",
              "    }\n",
              "\n",
              "    .dataframe tbody tr th {\n",
              "        vertical-align: top;\n",
              "    }\n",
              "\n",
              "    .dataframe thead th {\n",
              "        text-align: right;\n",
              "    }\n",
              "</style>\n",
              "<table border=\"1\" class=\"dataframe\">\n",
              "  <thead>\n",
              "    <tr style=\"text-align: right;\">\n",
              "      <th></th>\n",
              "      <th>Sno</th>\n",
              "      <th>AGE</th>\n",
              "      <th>SEX</th>\n",
              "      <th>CASTE_NAME</th>\n",
              "      <th>CATEGORY_CODE</th>\n",
              "      <th>CATEGORY_NAME</th>\n",
              "      <th>SURGERY_CODE</th>\n",
              "      <th>SURGERY</th>\n",
              "      <th>VILLAGE</th>\n",
              "      <th>MANDAL_NAME</th>\n",
              "      <th>...</th>\n",
              "      <th>CLAIM_DATE</th>\n",
              "      <th>CLAIM_AMOUNT</th>\n",
              "      <th>HOSP_NAME</th>\n",
              "      <th>HOSP_TYPE</th>\n",
              "      <th>HOSP_DISTRICT</th>\n",
              "      <th>SURGERY_DATE</th>\n",
              "      <th>DISCHARGE_DATE</th>\n",
              "      <th>Mortality Y / N</th>\n",
              "      <th>MORTALITY_DATE</th>\n",
              "      <th>SRC_REGISTRATION</th>\n",
              "    </tr>\n",
              "  </thead>\n",
              "  <tbody>\n",
              "    <tr>\n",
              "      <th>0</th>\n",
              "      <td>1</td>\n",
              "      <td>56</td>\n",
              "      <td>Female</td>\n",
              "      <td>BC</td>\n",
              "      <td>M6</td>\n",
              "      <td>NEPHROLOGY</td>\n",
              "      <td>M6.5</td>\n",
              "      <td>Maintenance Hemodialysis For Crf</td>\n",
              "      <td>Lolugu</td>\n",
              "      <td>Ponduru</td>\n",
              "      <td>...</td>\n",
              "      <td>22-03-2017 20:25</td>\n",
              "      <td>11000</td>\n",
              "      <td>Rims Govt. General Hospital, Srikakulam</td>\n",
              "      <td>G</td>\n",
              "      <td>Srikakulam</td>\n",
              "      <td>06-08-2013 00:00</td>\n",
              "      <td>07-09-2013 00:00</td>\n",
              "      <td>NO</td>\n",
              "      <td>NaN</td>\n",
              "      <td>D</td>\n",
              "    </tr>\n",
              "    <tr>\n",
              "      <th>1</th>\n",
              "      <td>2</td>\n",
              "      <td>37</td>\n",
              "      <td>Male</td>\n",
              "      <td>BC</td>\n",
              "      <td>M6</td>\n",
              "      <td>NEPHROLOGY</td>\n",
              "      <td>M6.5</td>\n",
              "      <td>Maintenance Hemodialysis For Crf</td>\n",
              "      <td>Borivanka</td>\n",
              "      <td>Kaviti</td>\n",
              "      <td>...</td>\n",
              "      <td>22-03-2017 20:25</td>\n",
              "      <td>11000</td>\n",
              "      <td>Rims Govt. General Hospital, Srikakulam</td>\n",
              "      <td>G</td>\n",
              "      <td>Srikakulam</td>\n",
              "      <td>08-08-2013 00:00</td>\n",
              "      <td>09-09-2013 00:00</td>\n",
              "      <td>NO</td>\n",
              "      <td>NaN</td>\n",
              "      <td>D</td>\n",
              "    </tr>\n",
              "    <tr>\n",
              "      <th>2</th>\n",
              "      <td>3</td>\n",
              "      <td>50</td>\n",
              "      <td>Male</td>\n",
              "      <td>BC</td>\n",
              "      <td>M6</td>\n",
              "      <td>NEPHROLOGY</td>\n",
              "      <td>M6.5</td>\n",
              "      <td>Maintenance Hemodialysis For Crf</td>\n",
              "      <td>Kapasakuddi</td>\n",
              "      <td>Kaviti</td>\n",
              "      <td>...</td>\n",
              "      <td>22-03-2017 20:25</td>\n",
              "      <td>11500</td>\n",
              "      <td>Rims Govt. General Hospital, Srikakulam</td>\n",
              "      <td>G</td>\n",
              "      <td>Srikakulam</td>\n",
              "      <td>15-08-2013 00:00</td>\n",
              "      <td>18-10-2013 00:00</td>\n",
              "      <td>NO</td>\n",
              "      <td>NaN</td>\n",
              "      <td>D</td>\n",
              "    </tr>\n",
              "  </tbody>\n",
              "</table>\n",
              "<p>3 rows × 23 columns</p>\n",
              "</div>\n",
              "      <button class=\"colab-df-convert\" onclick=\"convertToInteractive('df-b025da6f-1ef0-40d3-a5ff-0d433dde387f')\"\n",
              "              title=\"Convert this dataframe to an interactive table.\"\n",
              "              style=\"display:none;\">\n",
              "        \n",
              "  <svg xmlns=\"http://www.w3.org/2000/svg\" height=\"24px\"viewBox=\"0 0 24 24\"\n",
              "       width=\"24px\">\n",
              "    <path d=\"M0 0h24v24H0V0z\" fill=\"none\"/>\n",
              "    <path d=\"M18.56 5.44l.94 2.06.94-2.06 2.06-.94-2.06-.94-.94-2.06-.94 2.06-2.06.94zm-11 1L8.5 8.5l.94-2.06 2.06-.94-2.06-.94L8.5 2.5l-.94 2.06-2.06.94zm10 10l.94 2.06.94-2.06 2.06-.94-2.06-.94-.94-2.06-.94 2.06-2.06.94z\"/><path d=\"M17.41 7.96l-1.37-1.37c-.4-.4-.92-.59-1.43-.59-.52 0-1.04.2-1.43.59L10.3 9.45l-7.72 7.72c-.78.78-.78 2.05 0 2.83L4 21.41c.39.39.9.59 1.41.59.51 0 1.02-.2 1.41-.59l7.78-7.78 2.81-2.81c.8-.78.8-2.07 0-2.86zM5.41 20L4 18.59l7.72-7.72 1.47 1.35L5.41 20z\"/>\n",
              "  </svg>\n",
              "      </button>\n",
              "      \n",
              "  <style>\n",
              "    .colab-df-container {\n",
              "      display:flex;\n",
              "      flex-wrap:wrap;\n",
              "      gap: 12px;\n",
              "    }\n",
              "\n",
              "    .colab-df-convert {\n",
              "      background-color: #E8F0FE;\n",
              "      border: none;\n",
              "      border-radius: 50%;\n",
              "      cursor: pointer;\n",
              "      display: none;\n",
              "      fill: #1967D2;\n",
              "      height: 32px;\n",
              "      padding: 0 0 0 0;\n",
              "      width: 32px;\n",
              "    }\n",
              "\n",
              "    .colab-df-convert:hover {\n",
              "      background-color: #E2EBFA;\n",
              "      box-shadow: 0px 1px 2px rgba(60, 64, 67, 0.3), 0px 1px 3px 1px rgba(60, 64, 67, 0.15);\n",
              "      fill: #174EA6;\n",
              "    }\n",
              "\n",
              "    [theme=dark] .colab-df-convert {\n",
              "      background-color: #3B4455;\n",
              "      fill: #D2E3FC;\n",
              "    }\n",
              "\n",
              "    [theme=dark] .colab-df-convert:hover {\n",
              "      background-color: #434B5C;\n",
              "      box-shadow: 0px 1px 3px 1px rgba(0, 0, 0, 0.15);\n",
              "      filter: drop-shadow(0px 1px 2px rgba(0, 0, 0, 0.3));\n",
              "      fill: #FFFFFF;\n",
              "    }\n",
              "  </style>\n",
              "\n",
              "      <script>\n",
              "        const buttonEl =\n",
              "          document.querySelector('#df-b025da6f-1ef0-40d3-a5ff-0d433dde387f button.colab-df-convert');\n",
              "        buttonEl.style.display =\n",
              "          google.colab.kernel.accessAllowed ? 'block' : 'none';\n",
              "\n",
              "        async function convertToInteractive(key) {\n",
              "          const element = document.querySelector('#df-b025da6f-1ef0-40d3-a5ff-0d433dde387f');\n",
              "          const dataTable =\n",
              "            await google.colab.kernel.invokeFunction('convertToInteractive',\n",
              "                                                     [key], {});\n",
              "          if (!dataTable) return;\n",
              "\n",
              "          const docLinkHtml = 'Like what you see? Visit the ' +\n",
              "            '<a target=\"_blank\" href=https://colab.research.google.com/notebooks/data_table.ipynb>data table notebook</a>'\n",
              "            + ' to learn more about interactive tables.';\n",
              "          element.innerHTML = '';\n",
              "          dataTable['output_type'] = 'display_data';\n",
              "          await google.colab.output.renderOutput(dataTable, element);\n",
              "          const docLink = document.createElement('div');\n",
              "          docLink.innerHTML = docLinkHtml;\n",
              "          element.appendChild(docLink);\n",
              "        }\n",
              "      </script>\n",
              "    </div>\n",
              "  </div>\n",
              "  "
            ]
          },
          "metadata": {},
          "execution_count": 42
        }
      ]
    },
    {
      "cell_type": "markdown",
      "metadata": {
        "id": "tsm8uZ0JMr5m"
      },
      "source": [
        "Bu dataset sug'urta kompaniyasining real ma'lumotlardan tuzilgan. Bu datasetda 480000 qator sug'urta ma'lumotlar tashkil topgan.\n",
        "Quyida datasetning ba'zi ustunlari haqida qisqacha ma'lumot\n",
        "\n",
        "*   Sno = seriya raqami \n",
        "*   AGE = yoshi\n",
        "*   SEX = jinsi (female = ayol, male = erkak)\n",
        "*   CASTE_NAME = kasta nomi (Hindistonda har bir inson ma'lum bir kastaga oid bo'ladi)\n",
        "*   CATEGORY_CODE = kategoriya kodi\n",
        "*   CATEGORY_Name = kategoriya nomi\n",
        "*   SURGERY_CODE = operatsiya kodi\n",
        "*   Mandal_Name = mandal nomlanishi ya'ni familiyasi desak ham bo'ladi\n",
        "*   Mortality Y/N = vafot etgan yoki vafot etmaganligi\n",
        "*   MORTALITY_DATE = qachon vafot etganligi\n",
        "\n",
        "\n",
        "\n"
      ]
    },
    {
      "cell_type": "markdown",
      "metadata": {
        "id": "FNLOb9yhxI0b"
      },
      "source": [
        "### **1-mashq**. Datasetdagi barcha takrorlangan qatorlar sonini toping"
      ]
    },
    {
      "cell_type": "code",
      "metadata": {
        "id": "o64K3q-UBNAm",
        "colab": {
          "base_uri": "https://localhost:8080/"
        },
        "outputId": "b19ac210-8526-4eb5-a417-05baa72d5293"
      },
      "source": [
        "# Javobni shuyerga yozing\n",
        "# df.set_index('Sno')\n",
        "df.duplicated().sum()"
      ],
      "execution_count": 43,
      "outputs": [
        {
          "output_type": "execute_result",
          "data": {
            "text/plain": [
              "0"
            ]
          },
          "metadata": {},
          "execution_count": 43
        }
      ]
    },
    {
      "cell_type": "code",
      "metadata": {
        "cellView": "form",
        "id": "2aiD_0BiOrsy"
      },
      "source": [
        "#@title **To'g'ri javob**\n",
        "sum(df.duplicated())"
      ],
      "execution_count": null,
      "outputs": []
    },
    {
      "cell_type": "markdown",
      "metadata": {
        "id": "9GJiUd445Kr1"
      },
      "source": [
        "#### **2-mashq**. Datasetdagi quyidagi ustunlar o'chirib yuborilsin:<br>\n",
        "*   Sno\n",
        "*   CATEGORY_CODE\n",
        "*   SURGERY_CODE\n",
        "*   MANDAL_NAME\n",
        "*   DISTRICT_NAME\n",
        "*   HOSP_DISTRICT\n",
        "<BR>\n"
      ]
    },
    {
      "cell_type": "code",
      "metadata": {
        "id": "W8LCqh3466n-"
      },
      "source": [
        "# Javobni shuyerga yozing\n",
        "df.drop(['Sno','CATEGORY_CODE','SURGERY_CODE','MANDAL_NAME','DISTRICT_NAME','HOSP_DISTRICT'],axis=1, inplace=True)"
      ],
      "execution_count": 44,
      "outputs": []
    },
    {
      "cell_type": "markdown",
      "metadata": {
        "id": "wVuuU-XZO-0Y"
      },
      "source": [
        "#### **3-mashq**. Datasetdagi sex(jinsi) nomli qatordagi qiymatlarni unique funksiyasi orqali tekshiring.\n",
        "\n",
        "\n"
      ]
    },
    {
      "cell_type": "code",
      "metadata": {
        "id": "i9e_7Icu0Xms",
        "colab": {
          "base_uri": "https://localhost:8080/"
        },
        "outputId": "9fc01195-005b-44b0-be7d-375b9f2c344c"
      },
      "source": [
        "# Javobni shuyerga yozing\n",
        "df.SEX.unique()"
      ],
      "execution_count": 45,
      "outputs": [
        {
          "output_type": "execute_result",
          "data": {
            "text/plain": [
              "array(['Female', 'Male', 'Male(Child)', 'Female(Child)', 'FEMALE'],\n",
              "      dtype=object)"
            ]
          },
          "metadata": {},
          "execution_count": 45
        }
      ]
    },
    {
      "cell_type": "code",
      "metadata": {
        "cellView": "form",
        "id": "Wa7bvsLs05wT",
        "colab": {
          "base_uri": "https://localhost:8080/"
        },
        "outputId": "f57e196b-a6ea-4e69-a19e-7e7ff307f22c"
      },
      "source": [
        "#@title **To'g'ri javob**\n",
        "df[\"SEX\"].unique()\n"
      ],
      "execution_count": 19,
      "outputs": [
        {
          "output_type": "execute_result",
          "data": {
            "text/plain": [
              "array(['Ayol', 'Erkak'], dtype=object)"
            ]
          },
          "metadata": {},
          "execution_count": 19
        }
      ]
    },
    {
      "cell_type": "markdown",
      "metadata": {
        "id": "nfwZ0uQo1xXm"
      },
      "source": [
        "#### **4-mashq**. Datasetdagi sex(jinsi) nomli qatordagi qiymatlarni **Erkak** va **Ayol** ga o'zgartiring:\n",
        "O'zgartirish quyidagicha bo'lsin:\n",
        "\n",
        "\n",
        "*   Male -> Erkak\n",
        "*   Male(child) -> Erkak\n",
        "*   Female - > Ayol\n",
        "*   Female(child) - Ayol\n",
        "*   MALE -> Erkak\n",
        "*   FEMALE -> Ayol\n",
        "\n",
        "\n",
        "\n"
      ]
    },
    {
      "cell_type": "code",
      "metadata": {
        "id": "54IqaOmz159z"
      },
      "source": [
        "# Javobni shuyerga yozing\n",
        "dicts= {'Female':\"Ayol\", 'Male':\"Erkak\", 'Male(Child)':\"Erkak\", 'Female(Child)':\"Ayol\", 'FEMALE':\"Ayol\"}\n",
        "df['SEX'].replace(dicts,inplace=True)"
      ],
      "execution_count": 46,
      "outputs": []
    },
    {
      "cell_type": "code",
      "metadata": {
        "cellView": "form",
        "id": "ZM7XuQc31_Z1"
      },
      "source": [
        "#@title **To'g'ri javob**\n",
        "dict = {\"Male\":\"Erkak\",\"Male(child)\":\"Erkak\", \"Female\":\"Ayol\",\"Female(child)\":\"Ayol\",\"MALE\":\"Erkak\",\"FEMALE\":\"Ayol\"}\n",
        "df[\"SEX\"] = df[\"SEX\"].map(dict)"
      ],
      "execution_count": null,
      "outputs": []
    },
    {
      "cell_type": "markdown",
      "source": [],
      "metadata": {
        "id": "E8_I15GLHozr"
      }
    },
    {
      "cell_type": "markdown",
      "metadata": {
        "id": "t_KWHWqj3D38"
      },
      "source": [
        "#### **5-mashq**. Endi xuddi shu SEX columndagi ma'lumotlarni raqamlarga o'zgartiring: Erkaklarni 1 raqamiga, Ayollarni 0 raqamiga o'zgartiring.\n",
        "*   Erkak -> 1\n",
        "*   Ayol -> 0"
      ]
    },
    {
      "cell_type": "code",
      "metadata": {
        "id": "CU3ygcnh3LAd"
      },
      "source": [
        "# Javobni shuyerga yozing\n",
        "e1a0={\"Erkak\":1,\"Ayol\":0}\n",
        "df.SEX.replace(e1a0,inplace=True)"
      ],
      "execution_count": 47,
      "outputs": []
    },
    {
      "cell_type": "code",
      "metadata": {
        "cellView": "form",
        "id": "Ou0DKvEm3ZxW"
      },
      "source": [
        "#@title **To'g'ri javob**\n",
        "dict2 = {'Erkak':1, 'Ayol':0}\n",
        "df[\"SEX\"] = df[\"SEX\"].map(dict2)\n",
        "df.head(5)"
      ],
      "execution_count": null,
      "outputs": []
    },
    {
      "cell_type": "markdown",
      "metadata": {
        "id": "i4n7ulS75WA4"
      },
      "source": [
        "#### **6-mashq**. Shu jarayonni HOSP_TYPE ustuni uchun ham amalga oshiring. \n",
        "*   G - General hospital (umumiy kasalxona) degani\n",
        "*   C - Special hospital (maxsus kasalxona) degani\n",
        "<br><b>O'zgarish quyidagicha bo'lsin:</b>\n",
        "*   G -> Umumiy \n",
        "*   C -> Maxsus\n"
      ]
    },
    {
      "cell_type": "code",
      "metadata": {
        "id": "BEokSEre43GK"
      },
      "source": [
        "# Javobni shuyerga yozing\n",
        "gucm={\"G\":\"Umumiy\",\"C\":\"Maxsus\"}\n",
        "df[\"HOSP_TYPE\"]=df[\"HOSP_TYPE\"].map(gucm)\n",
        "# df[\"HOSP_TYPE\"].replace(gucm,inplace=True)"
      ],
      "execution_count": 48,
      "outputs": []
    },
    {
      "cell_type": "code",
      "metadata": {
        "cellView": "form",
        "id": "ALhBzKu35lBb"
      },
      "source": [
        "#@title **To'g'ri javob**\n",
        "df[\"HOSP_TYPE\"] = df[\"HOSP_TYPE\"].map({'G':\"Umumiy\", 'C':\"Maxsus\"})\n"
      ],
      "execution_count": null,
      "outputs": []
    },
    {
      "cell_type": "markdown",
      "metadata": {
        "id": "4YozaezB4qqa"
      },
      "source": [
        "#### **7-mashq**. O'zgartirish amalga oshirilgach, HOSP_TYPE ustunida qancha Umumiy va qancha Maxsus kasalxonalar borligini ham aniqlang\n"
      ]
    },
    {
      "cell_type": "code",
      "metadata": {
        "id": "XNa8b4s25IUN",
        "colab": {
          "base_uri": "https://localhost:8080/"
        },
        "outputId": "ea917aa1-7eed-4352-ef39-e0ae63c747bc"
      },
      "source": [
        "# Javobni shuyerga yozing\n",
        "\n",
        "df[\"HOSP_TYPE\"].value_counts()"
      ],
      "execution_count": 49,
      "outputs": [
        {
          "output_type": "execute_result",
          "data": {
            "text/plain": [
              "Maxsus    241139\n",
              "Umumiy     94255\n",
              "Name: HOSP_TYPE, dtype: int64"
            ]
          },
          "metadata": {},
          "execution_count": 49
        }
      ]
    },
    {
      "cell_type": "code",
      "metadata": {
        "cellView": "form",
        "id": "j472LUxgU0P-"
      },
      "source": [
        "#@title **To'g'ri javob**\n",
        "df[\"HOSP_TYPE\"].value_counts()"
      ],
      "execution_count": null,
      "outputs": []
    },
    {
      "cell_type": "markdown",
      "metadata": {
        "id": "kEr2LYiJ_I-k"
      },
      "source": [
        "#### **8-mashq**. Datasetda qancha takrorlangan qatorlar borligini aniqlang  \n"
      ]
    },
    {
      "cell_type": "code",
      "metadata": {
        "id": "7EzWPhDZ_i5o",
        "colab": {
          "base_uri": "https://localhost:8080/"
        },
        "outputId": "b2195775-bf40-4456-ecbe-3d9b3a8b2149"
      },
      "source": [
        "# Javobni shuyerga yozing\n",
        "df.duplicated().sum()"
      ],
      "execution_count": 50,
      "outputs": [
        {
          "output_type": "execute_result",
          "data": {
            "text/plain": [
              "30"
            ]
          },
          "metadata": {},
          "execution_count": 50
        }
      ]
    },
    {
      "cell_type": "code",
      "metadata": {
        "cellView": "form",
        "id": "J3yF9CKM5eTs"
      },
      "source": [
        "#@title **To'g'ri javob**\n",
        "sum(df.duplicated())"
      ],
      "execution_count": null,
      "outputs": []
    },
    {
      "cell_type": "markdown",
      "metadata": {
        "id": "6gphfgtd_nJK"
      },
      "source": [
        "#### **9-mashq**. Datasetda barcha takrorlangan qatorlarni o'chirib yuboring  \n"
      ]
    },
    {
      "cell_type": "code",
      "metadata": {
        "id": "DdsEuZXg_tEd"
      },
      "source": [
        "# Javobni shuyerga yozing\n",
        "df.drop_duplicates(inplace=True)"
      ],
      "execution_count": 51,
      "outputs": []
    },
    {
      "cell_type": "code",
      "metadata": {
        "cellView": "form",
        "id": "sy_c4uyI_t6f"
      },
      "source": [
        "#@title **To'g'ri javob**\n",
        "df.drop_duplicates(inplace=True)"
      ],
      "execution_count": null,
      "outputs": []
    },
    {
      "cell_type": "markdown",
      "metadata": {
        "id": "bN26F9LP_2RE"
      },
      "source": [
        "#### **10-mashq**. Datasetdan shifoxona turiga ko'ra (umumiy va maxsus), ClAIM_AMOUNTning o'rtacha qiymatlarini toping.\n"
      ]
    },
    {
      "cell_type": "code",
      "metadata": {
        "id": "t2NcocXLFI78",
        "colab": {
          "base_uri": "https://localhost:8080/"
        },
        "outputId": "35989acb-53bc-44be-ec60-7724dd3bcb8a"
      },
      "source": [
        "# Javobni shuyerga yozing\n",
        "df.groupby(\"HOSP_TYPE\").CLAIM_AMOUNT.mean()"
      ],
      "execution_count": 52,
      "outputs": [
        {
          "output_type": "execute_result",
          "data": {
            "text/plain": [
              "HOSP_TYPE\n",
              "Maxsus    30275.151848\n",
              "Umumiy    22683.770100\n",
              "Name: CLAIM_AMOUNT, dtype: float64"
            ]
          },
          "metadata": {},
          "execution_count": 52
        }
      ]
    },
    {
      "cell_type": "code",
      "metadata": {
        "cellView": "form",
        "id": "vpa7vDJWAc6u"
      },
      "source": [
        "#@title **To'g'ri javob**\n",
        "df.groupby('HOSP_TYPE').CLAIM_AMOUNT.mean()\n"
      ],
      "execution_count": null,
      "outputs": []
    },
    {
      "cell_type": "markdown",
      "metadata": {
        "id": "7QnvZvW6F3Su"
      },
      "source": [
        "#### **11-mashq**. Datasetdan shifoxona turiga ko'ra (umumiy va maxsus), ClAIM_AMOUNTning minimum qiymatlarini toping.\n"
      ]
    },
    {
      "cell_type": "code",
      "metadata": {
        "id": "5K42PI7tF0On",
        "colab": {
          "base_uri": "https://localhost:8080/"
        },
        "outputId": "5f560e95-ef77-4025-deff-552c5f34c306"
      },
      "source": [
        "# Javobni shuyerga yozing\n",
        "df.groupby('HOSP_TYPE').CLAIM_AMOUNT.min()"
      ],
      "execution_count": 53,
      "outputs": [
        {
          "output_type": "execute_result",
          "data": {
            "text/plain": [
              "HOSP_TYPE\n",
              "Maxsus    2\n",
              "Umumiy    2\n",
              "Name: CLAIM_AMOUNT, dtype: int64"
            ]
          },
          "metadata": {},
          "execution_count": 53
        }
      ]
    },
    {
      "cell_type": "code",
      "metadata": {
        "cellView": "form",
        "id": "znwYPfq5F0Sy"
      },
      "source": [
        "#@title **To'g'ri javob**\n",
        "df.groupby('HOSP_TYPE').CLAIM_AMOUNT.min()"
      ],
      "execution_count": null,
      "outputs": []
    },
    {
      "cell_type": "markdown",
      "metadata": {
        "id": "KQKllXlaF5D7"
      },
      "source": [
        "#### **12-mashq**. Datasetdan shifoxona turiga ko'ra (umumiy va maxsus), CLAIM_AMOUNTning maksimum qiymatlarini toping.\n"
      ]
    },
    {
      "cell_type": "code",
      "metadata": {
        "id": "7RNQVzsCF8-m",
        "colab": {
          "base_uri": "https://localhost:8080/"
        },
        "outputId": "3fa749c7-04f8-4a2f-e346-0ff08f7a1b8d"
      },
      "source": [
        "# Javobni shuyerga yozing\n",
        "df.groupby('HOSP_TYPE').CLAIM_AMOUNT.max()"
      ],
      "execution_count": 54,
      "outputs": [
        {
          "output_type": "execute_result",
          "data": {
            "text/plain": [
              "HOSP_TYPE\n",
              "Maxsus    520000\n",
              "Umumiy    520000\n",
              "Name: CLAIM_AMOUNT, dtype: int64"
            ]
          },
          "metadata": {},
          "execution_count": 54
        }
      ]
    },
    {
      "cell_type": "code",
      "metadata": {
        "cellView": "form",
        "id": "PM-8O6dZF-c_"
      },
      "source": [
        "#@title **To'g'ri javob**\n",
        "df.groupby('HOSP_TYPE').CLAIM_AMOUNT.max()"
      ],
      "execution_count": null,
      "outputs": []
    },
    {
      "cell_type": "markdown",
      "metadata": {
        "id": "JhL3fPU4HJkK"
      },
      "source": [
        ".agg() yordamida istalgan funksiyalarni chaqirishimiz mumkin, misol uchun numpy dagi mean (o'rta qiymat) funiksiyasini ham qo'shamiz. Natijalarni faqat price ustuni uchun chiqaramiz:"
      ]
    },
    {
      "cell_type": "markdown",
      "metadata": {
        "id": "ZaAwTY8RHLBB"
      },
      "source": [
        "#### **13-mashq**. Datasetdan jinsiga ko'ra CLAIM_AMOUNTning min, max va o'rta qiymatlarni agg() usuli yordamida toping.\n",
        "\n"
      ]
    },
    {
      "cell_type": "code",
      "metadata": {
        "id": "-X_HduSGH00I",
        "colab": {
          "base_uri": "https://localhost:8080/",
          "height": 143
        },
        "outputId": "26246bb4-853c-4555-fbc6-398e253ff08b"
      },
      "source": [
        "# Javobni shuyerga yozing\n",
        "df.groupby('SEX').CLAIM_AMOUNT.agg([min,max,np.mean])"
      ],
      "execution_count": 55,
      "outputs": [
        {
          "output_type": "execute_result",
          "data": {
            "text/plain": [
              "     min     max          mean\n",
              "SEX                           \n",
              "0      2  520000  25960.356579\n",
              "1      2  520000  29586.732405"
            ],
            "text/html": [
              "\n",
              "  <div id=\"df-6044030e-39d6-45dc-8326-141fd5952802\">\n",
              "    <div class=\"colab-df-container\">\n",
              "      <div>\n",
              "<style scoped>\n",
              "    .dataframe tbody tr th:only-of-type {\n",
              "        vertical-align: middle;\n",
              "    }\n",
              "\n",
              "    .dataframe tbody tr th {\n",
              "        vertical-align: top;\n",
              "    }\n",
              "\n",
              "    .dataframe thead th {\n",
              "        text-align: right;\n",
              "    }\n",
              "</style>\n",
              "<table border=\"1\" class=\"dataframe\">\n",
              "  <thead>\n",
              "    <tr style=\"text-align: right;\">\n",
              "      <th></th>\n",
              "      <th>min</th>\n",
              "      <th>max</th>\n",
              "      <th>mean</th>\n",
              "    </tr>\n",
              "    <tr>\n",
              "      <th>SEX</th>\n",
              "      <th></th>\n",
              "      <th></th>\n",
              "      <th></th>\n",
              "    </tr>\n",
              "  </thead>\n",
              "  <tbody>\n",
              "    <tr>\n",
              "      <th>0</th>\n",
              "      <td>2</td>\n",
              "      <td>520000</td>\n",
              "      <td>25960.356579</td>\n",
              "    </tr>\n",
              "    <tr>\n",
              "      <th>1</th>\n",
              "      <td>2</td>\n",
              "      <td>520000</td>\n",
              "      <td>29586.732405</td>\n",
              "    </tr>\n",
              "  </tbody>\n",
              "</table>\n",
              "</div>\n",
              "      <button class=\"colab-df-convert\" onclick=\"convertToInteractive('df-6044030e-39d6-45dc-8326-141fd5952802')\"\n",
              "              title=\"Convert this dataframe to an interactive table.\"\n",
              "              style=\"display:none;\">\n",
              "        \n",
              "  <svg xmlns=\"http://www.w3.org/2000/svg\" height=\"24px\"viewBox=\"0 0 24 24\"\n",
              "       width=\"24px\">\n",
              "    <path d=\"M0 0h24v24H0V0z\" fill=\"none\"/>\n",
              "    <path d=\"M18.56 5.44l.94 2.06.94-2.06 2.06-.94-2.06-.94-.94-2.06-.94 2.06-2.06.94zm-11 1L8.5 8.5l.94-2.06 2.06-.94-2.06-.94L8.5 2.5l-.94 2.06-2.06.94zm10 10l.94 2.06.94-2.06 2.06-.94-2.06-.94-.94-2.06-.94 2.06-2.06.94z\"/><path d=\"M17.41 7.96l-1.37-1.37c-.4-.4-.92-.59-1.43-.59-.52 0-1.04.2-1.43.59L10.3 9.45l-7.72 7.72c-.78.78-.78 2.05 0 2.83L4 21.41c.39.39.9.59 1.41.59.51 0 1.02-.2 1.41-.59l7.78-7.78 2.81-2.81c.8-.78.8-2.07 0-2.86zM5.41 20L4 18.59l7.72-7.72 1.47 1.35L5.41 20z\"/>\n",
              "  </svg>\n",
              "      </button>\n",
              "      \n",
              "  <style>\n",
              "    .colab-df-container {\n",
              "      display:flex;\n",
              "      flex-wrap:wrap;\n",
              "      gap: 12px;\n",
              "    }\n",
              "\n",
              "    .colab-df-convert {\n",
              "      background-color: #E8F0FE;\n",
              "      border: none;\n",
              "      border-radius: 50%;\n",
              "      cursor: pointer;\n",
              "      display: none;\n",
              "      fill: #1967D2;\n",
              "      height: 32px;\n",
              "      padding: 0 0 0 0;\n",
              "      width: 32px;\n",
              "    }\n",
              "\n",
              "    .colab-df-convert:hover {\n",
              "      background-color: #E2EBFA;\n",
              "      box-shadow: 0px 1px 2px rgba(60, 64, 67, 0.3), 0px 1px 3px 1px rgba(60, 64, 67, 0.15);\n",
              "      fill: #174EA6;\n",
              "    }\n",
              "\n",
              "    [theme=dark] .colab-df-convert {\n",
              "      background-color: #3B4455;\n",
              "      fill: #D2E3FC;\n",
              "    }\n",
              "\n",
              "    [theme=dark] .colab-df-convert:hover {\n",
              "      background-color: #434B5C;\n",
              "      box-shadow: 0px 1px 3px 1px rgba(0, 0, 0, 0.15);\n",
              "      filter: drop-shadow(0px 1px 2px rgba(0, 0, 0, 0.3));\n",
              "      fill: #FFFFFF;\n",
              "    }\n",
              "  </style>\n",
              "\n",
              "      <script>\n",
              "        const buttonEl =\n",
              "          document.querySelector('#df-6044030e-39d6-45dc-8326-141fd5952802 button.colab-df-convert');\n",
              "        buttonEl.style.display =\n",
              "          google.colab.kernel.accessAllowed ? 'block' : 'none';\n",
              "\n",
              "        async function convertToInteractive(key) {\n",
              "          const element = document.querySelector('#df-6044030e-39d6-45dc-8326-141fd5952802');\n",
              "          const dataTable =\n",
              "            await google.colab.kernel.invokeFunction('convertToInteractive',\n",
              "                                                     [key], {});\n",
              "          if (!dataTable) return;\n",
              "\n",
              "          const docLinkHtml = 'Like what you see? Visit the ' +\n",
              "            '<a target=\"_blank\" href=https://colab.research.google.com/notebooks/data_table.ipynb>data table notebook</a>'\n",
              "            + ' to learn more about interactive tables.';\n",
              "          element.innerHTML = '';\n",
              "          dataTable['output_type'] = 'display_data';\n",
              "          await google.colab.output.renderOutput(dataTable, element);\n",
              "          const docLink = document.createElement('div');\n",
              "          docLink.innerHTML = docLinkHtml;\n",
              "          element.appendChild(docLink);\n",
              "        }\n",
              "      </script>\n",
              "    </div>\n",
              "  </div>\n",
              "  "
            ]
          },
          "metadata": {},
          "execution_count": 55
        }
      ]
    },
    {
      "cell_type": "code",
      "metadata": {
        "cellView": "form",
        "id": "3372GXlAHsvB"
      },
      "source": [
        "#@title **To'g'ri javob**\n",
        "df.groupby('SEX').CLAIM_AMOUNT.agg([min, max, np.mean])\n"
      ],
      "execution_count": null,
      "outputs": []
    }
  ]
}